{
 "cells": [
  {
   "cell_type": "markdown",
   "metadata": {},
   "source": [
    "# Xncml Tutorial"
   ]
  },
  {
   "cell_type": "code",
   "execution_count": 1,
   "metadata": {},
   "outputs": [],
   "source": [
    "%load_ext autoreload\n",
    "%autoreload 2"
   ]
  },
  {
   "cell_type": "code",
   "execution_count": 2,
   "metadata": {},
   "outputs": [],
   "source": [
    "# Import xncml\n",
    "import xncml "
   ]
  },
  {
   "cell_type": "markdown",
   "metadata": {},
   "source": [
    "- Create an NcmlReader object from a local NcML file"
   ]
  },
  {
   "cell_type": "code",
   "execution_count": 3,
   "metadata": {},
   "outputs": [
    {
     "data": {
      "text/plain": [
       "<?xml version=\"1.0\" encoding=\"utf-8\"?>\n",
       "<netcdf xmlns=\"http://www.unidata.ucar.edu/namespaces/netcdf/ncml-2.2\" location=\"example1.nc\">\n",
       "\t<dimension name=\"time\" length=\"2\" isUnlimited=\"true\"></dimension>\n",
       "\t<dimension name=\"lat\" length=\"3\"></dimension>\n",
       "\t<dimension name=\"lon\" length=\"4\"></dimension>\n",
       "\t<attribute name=\"title\" type=\"String\" value=\"Example Data\"></attribute>\n",
       "\t<variable name=\"rh\" shape=\"time lat lon\" type=\"int\">\n",
       "\t\t<attribute name=\"long_name\" type=\"String\" value=\"relative humidity\"></attribute>\n",
       "\t\t<attribute name=\"units\" type=\"String\" value=\"percent\"></attribute>\n",
       "\t</variable>\n",
       "\t<variable name=\"T\" shape=\"time lat lon\" type=\"double\">\n",
       "\t\t<attribute name=\"long_name\" type=\"String\" value=\"surface temperature\"></attribute>\n",
       "\t\t<attribute name=\"units\" type=\"String\" value=\"C\"></attribute>\n",
       "\t</variable>\n",
       "\t<variable name=\"lat\" shape=\"lat\" type=\"float\">\n",
       "\t\t<attribute name=\"units\" type=\"String\" value=\"degrees_north\"></attribute>\n",
       "\t\t<values>41.0 40.0 39.0</values>\n",
       "\t</variable>\n",
       "\t<variable name=\"lon\" shape=\"lon\" type=\"float\">\n",
       "\t\t<attribute name=\"units\" type=\"String\" value=\"degrees_east\"></attribute>\n",
       "\t\t<values>-109.0 -107.0 -105.0 -103.0</values>\n",
       "\t</variable>\n",
       "\t<variable name=\"time\" shape=\"time\" type=\"int\">\n",
       "\t\t<attribute name=\"units\" type=\"String\" value=\"hours\"></attribute>\n",
       "\t\t<values>6 18</values>\n",
       "\t</variable>\n",
       "</netcdf>"
      ]
     },
     "execution_count": 3,
     "metadata": {},
     "output_type": "execute_result"
    }
   ],
   "source": [
    "nc = xncml.NcmlReader('exercise1.ncml')\n",
    "nc"
   ]
  },
  {
   "cell_type": "markdown",
   "metadata": {},
   "source": [
    "- Remove Dimension"
   ]
  },
  {
   "cell_type": "code",
   "execution_count": 4,
   "metadata": {},
   "outputs": [],
   "source": [
    "nc.remove_dataset_dimension(key='time')"
   ]
  },
  {
   "cell_type": "code",
   "execution_count": 5,
   "metadata": {},
   "outputs": [
    {
     "data": {
      "text/plain": [
       "<?xml version=\"1.0\" encoding=\"utf-8\"?>\n",
       "<netcdf xmlns=\"http://www.unidata.ucar.edu/namespaces/netcdf/ncml-2.2\" location=\"example1.nc\">\n",
       "\t<dimension name=\"lat\" length=\"3\"></dimension>\n",
       "\t<dimension name=\"lon\" length=\"4\"></dimension>\n",
       "\t<attribute name=\"title\" type=\"String\" value=\"Example Data\"></attribute>\n",
       "\t<variable name=\"rh\" shape=\"time lat lon\" type=\"int\">\n",
       "\t\t<attribute name=\"long_name\" type=\"String\" value=\"relative humidity\"></attribute>\n",
       "\t\t<attribute name=\"units\" type=\"String\" value=\"percent\"></attribute>\n",
       "\t</variable>\n",
       "\t<variable name=\"T\" shape=\"time lat lon\" type=\"double\">\n",
       "\t\t<attribute name=\"long_name\" type=\"String\" value=\"surface temperature\"></attribute>\n",
       "\t\t<attribute name=\"units\" type=\"String\" value=\"C\"></attribute>\n",
       "\t</variable>\n",
       "\t<variable name=\"lat\" shape=\"lat\" type=\"float\">\n",
       "\t\t<attribute name=\"units\" type=\"String\" value=\"degrees_north\"></attribute>\n",
       "\t\t<values>41.0 40.0 39.0</values>\n",
       "\t</variable>\n",
       "\t<variable name=\"lon\" shape=\"lon\" type=\"float\">\n",
       "\t\t<attribute name=\"units\" type=\"String\" value=\"degrees_east\"></attribute>\n",
       "\t\t<values>-109.0 -107.0 -105.0 -103.0</values>\n",
       "\t</variable>\n",
       "\t<variable name=\"time\" shape=\"time\" type=\"int\">\n",
       "\t\t<attribute name=\"units\" type=\"String\" value=\"hours\"></attribute>\n",
       "\t\t<values>6 18</values>\n",
       "\t</variable>\n",
       "</netcdf>"
      ]
     },
     "execution_count": 5,
     "metadata": {},
     "output_type": "execute_result"
    }
   ],
   "source": [
    "nc"
   ]
  },
  {
   "cell_type": "markdown",
   "metadata": {},
   "source": [
    "- Remove Variable"
   ]
  },
  {
   "cell_type": "code",
   "execution_count": 6,
   "metadata": {},
   "outputs": [],
   "source": [
    "nc.remove_dataset_variable(key='time')"
   ]
  },
  {
   "cell_type": "code",
   "execution_count": 7,
   "metadata": {},
   "outputs": [
    {
     "data": {
      "text/plain": [
       "<?xml version=\"1.0\" encoding=\"utf-8\"?>\n",
       "<netcdf xmlns=\"http://www.unidata.ucar.edu/namespaces/netcdf/ncml-2.2\" location=\"example1.nc\">\n",
       "\t<dimension name=\"lat\" length=\"3\"></dimension>\n",
       "\t<dimension name=\"lon\" length=\"4\"></dimension>\n",
       "\t<attribute name=\"title\" type=\"String\" value=\"Example Data\"></attribute>\n",
       "\t<variable name=\"rh\" shape=\"time lat lon\" type=\"int\">\n",
       "\t\t<attribute name=\"long_name\" type=\"String\" value=\"relative humidity\"></attribute>\n",
       "\t\t<attribute name=\"units\" type=\"String\" value=\"percent\"></attribute>\n",
       "\t</variable>\n",
       "\t<variable name=\"T\" shape=\"time lat lon\" type=\"double\">\n",
       "\t\t<attribute name=\"long_name\" type=\"String\" value=\"surface temperature\"></attribute>\n",
       "\t\t<attribute name=\"units\" type=\"String\" value=\"C\"></attribute>\n",
       "\t</variable>\n",
       "\t<variable name=\"lat\" shape=\"lat\" type=\"float\">\n",
       "\t\t<attribute name=\"units\" type=\"String\" value=\"degrees_north\"></attribute>\n",
       "\t\t<values>41.0 40.0 39.0</values>\n",
       "\t</variable>\n",
       "\t<variable name=\"lon\" shape=\"lon\" type=\"float\">\n",
       "\t\t<attribute name=\"units\" type=\"String\" value=\"degrees_east\"></attribute>\n",
       "\t\t<values>-109.0 -107.0 -105.0 -103.0</values>\n",
       "\t</variable>\n",
       "</netcdf>"
      ]
     },
     "execution_count": 7,
     "metadata": {},
     "output_type": "execute_result"
    }
   ],
   "source": [
    "nc"
   ]
  },
  {
   "cell_type": "markdown",
   "metadata": {},
   "source": [
    "- Add a global attribute"
   ]
  },
  {
   "cell_type": "code",
   "execution_count": 8,
   "metadata": {},
   "outputs": [
    {
     "data": {
      "text/plain": [
       "<?xml version=\"1.0\" encoding=\"utf-8\"?>\n",
       "<netcdf xmlns=\"http://www.unidata.ucar.edu/namespaces/netcdf/ncml-2.2\" location=\"example1.nc\">\n",
       "\t<dimension name=\"lat\" length=\"3\"></dimension>\n",
       "\t<dimension name=\"lon\" length=\"4\"></dimension>\n",
       "\t<attribute name=\"title\" type=\"String\" value=\"Example Data\"></attribute>\n",
       "\t<attribute name=\"Conventions\" type=\"String\" value=\"CF-2.0\"></attribute>\n",
       "\t<variable name=\"rh\" shape=\"time lat lon\" type=\"int\">\n",
       "\t\t<attribute name=\"long_name\" type=\"String\" value=\"relative humidity\"></attribute>\n",
       "\t\t<attribute name=\"units\" type=\"String\" value=\"percent\"></attribute>\n",
       "\t</variable>\n",
       "\t<variable name=\"T\" shape=\"time lat lon\" type=\"double\">\n",
       "\t\t<attribute name=\"long_name\" type=\"String\" value=\"surface temperature\"></attribute>\n",
       "\t\t<attribute name=\"units\" type=\"String\" value=\"C\"></attribute>\n",
       "\t</variable>\n",
       "\t<variable name=\"lat\" shape=\"lat\" type=\"float\">\n",
       "\t\t<attribute name=\"units\" type=\"String\" value=\"degrees_north\"></attribute>\n",
       "\t\t<values>41.0 40.0 39.0</values>\n",
       "\t</variable>\n",
       "\t<variable name=\"lon\" shape=\"lon\" type=\"float\">\n",
       "\t\t<attribute name=\"units\" type=\"String\" value=\"degrees_east\"></attribute>\n",
       "\t\t<values>-109.0 -107.0 -105.0 -103.0</values>\n",
       "\t</variable>\n",
       "</netcdf>"
      ]
     },
     "execution_count": 8,
     "metadata": {},
     "output_type": "execute_result"
    }
   ],
   "source": [
    "nc.add_dataset_attribute(key='Conventions', value='CF-2.0')\n",
    "nc"
   ]
  },
  {
   "cell_type": "markdown",
   "metadata": {},
   "source": [
    "- Add a variable attribute"
   ]
  },
  {
   "cell_type": "code",
   "execution_count": 9,
   "metadata": {},
   "outputs": [
    {
     "name": "stdout",
     "output_type": "stream",
     "text": [
      "OrderedDict([('@name', 'long_name'), ('@type', 'String'), ('@value', 'surface temperature')])\n",
      "OrderedDict([('@name', 'units'), ('@type', 'String'), ('@value', 'C')])\n",
      "OrderedDict([('@name', 'long_name'), ('@type', 'String'), ('@value', 'surface temperature')])\n",
      "OrderedDict([('@name', 'units'), ('@type', 'String'), ('@value', 'Kelvin')])\n"
     ]
    },
    {
     "data": {
      "text/plain": [
       "<?xml version=\"1.0\" encoding=\"utf-8\"?>\n",
       "<netcdf xmlns=\"http://www.unidata.ucar.edu/namespaces/netcdf/ncml-2.2\" location=\"example1.nc\">\n",
       "\t<dimension name=\"lat\" length=\"3\"></dimension>\n",
       "\t<dimension name=\"lon\" length=\"4\"></dimension>\n",
       "\t<attribute name=\"title\" type=\"String\" value=\"Example Data\"></attribute>\n",
       "\t<attribute name=\"Conventions\" type=\"String\" value=\"CF-2.0\"></attribute>\n",
       "\t<variable name=\"rh\" shape=\"time lat lon\" type=\"int\">\n",
       "\t\t<attribute name=\"long_name\" type=\"String\" value=\"relative humidity\"></attribute>\n",
       "\t\t<attribute name=\"units\" type=\"String\" value=\"percent\"></attribute>\n",
       "\t</variable>\n",
       "\t<variable name=\"T\" shape=\"time lat lon\" type=\"double\">\n",
       "\t\t<attribute name=\"long_name\" type=\"String\" value=\"surface temperature\"></attribute>\n",
       "\t\t<attribute name=\"units\" type=\"String\" value=\"Kelvin\"></attribute>\n",
       "\t\t<attribute name=\"Fill_value\" type=\"String\" value=\"-999999999\"></attribute>\n",
       "\t</variable>\n",
       "\t<variable name=\"lat\" shape=\"lat\" type=\"float\">\n",
       "\t\t<attribute name=\"units\" type=\"String\" value=\"degrees_north\"></attribute>\n",
       "\t\t<values>41.0 40.0 39.0</values>\n",
       "\t</variable>\n",
       "\t<variable name=\"lon\" shape=\"lon\" type=\"float\">\n",
       "\t\t<attribute name=\"units\" type=\"String\" value=\"degrees_east\"></attribute>\n",
       "\t\t<values>-109.0 -107.0 -105.0 -103.0</values>\n",
       "\t</variable>\n",
       "</netcdf>"
      ]
     },
     "execution_count": 9,
     "metadata": {},
     "output_type": "execute_result"
    }
   ],
   "source": [
    "nc.add_variable_attribute(variable='T', key='units', value='Kelvin')\n",
    "nc.add_variable_attribute(variable='T', key='Fill_value', value=-999999999)\n",
    "nc"
   ]
  },
  {
   "cell_type": "markdown",
   "metadata": {},
   "source": [
    "- Remove variable attribute"
   ]
  },
  {
   "cell_type": "code",
   "execution_count": 10,
   "metadata": {},
   "outputs": [
    {
     "data": {
      "text/plain": [
       "<?xml version=\"1.0\" encoding=\"utf-8\"?>\n",
       "<netcdf xmlns=\"http://www.unidata.ucar.edu/namespaces/netcdf/ncml-2.2\" location=\"example1.nc\">\n",
       "\t<dimension name=\"lat\" length=\"3\"></dimension>\n",
       "\t<dimension name=\"lon\" length=\"4\"></dimension>\n",
       "\t<attribute name=\"title\" type=\"String\" value=\"Example Data\"></attribute>\n",
       "\t<attribute name=\"Conventions\" type=\"String\" value=\"CF-2.0\"></attribute>\n",
       "\t<variable name=\"rh\" shape=\"time lat lon\" type=\"int\">\n",
       "\t\t<attribute name=\"long_name\" type=\"String\" value=\"relative humidity\"></attribute>\n",
       "\t\t<attribute name=\"units\" type=\"String\" value=\"percent\"></attribute>\n",
       "\t</variable>\n",
       "\t<variable name=\"T\" shape=\"time lat lon\" type=\"double\">\n",
       "\t\t<attribute name=\"long_name\" type=\"String\" value=\"surface temperature\"></attribute>\n",
       "\t\t<attribute name=\"units\" type=\"String\" value=\"Kelvin\"></attribute>\n",
       "\t</variable>\n",
       "\t<variable name=\"lat\" shape=\"lat\" type=\"float\">\n",
       "\t\t<attribute name=\"units\" type=\"String\" value=\"degrees_north\"></attribute>\n",
       "\t\t<values>41.0 40.0 39.0</values>\n",
       "\t</variable>\n",
       "\t<variable name=\"lon\" shape=\"lon\" type=\"float\">\n",
       "\t\t<attribute name=\"units\" type=\"String\" value=\"degrees_east\"></attribute>\n",
       "\t\t<values>-109.0 -107.0 -105.0 -103.0</values>\n",
       "\t</variable>\n",
       "</netcdf>"
      ]
     },
     "execution_count": 10,
     "metadata": {},
     "output_type": "execute_result"
    }
   ],
   "source": [
    "nc.remove_variable_attribute(variable='T', key='Fill_value')\n",
    "nc"
   ]
  },
  {
   "cell_type": "code",
   "execution_count": 11,
   "metadata": {},
   "outputs": [
    {
     "name": "stdout",
     "output_type": "stream",
     "text": [
      "xncml 0.1.dev10+g17c189e.d20190411\n",
      "last updated: 2019-04-11 \n",
      "\n",
      "CPython 3.6.7\n",
      "IPython 7.1.1\n",
      "\n",
      "compiler   : GCC 4.2.1 Compatible Clang 4.0.1 (tags/RELEASE_401/final)\n",
      "system     : Darwin\n",
      "release    : 17.7.0\n",
      "machine    : x86_64\n",
      "processor  : i386\n",
      "CPU cores  : 8\n",
      "interpreter: 64bit\n",
      "Git hash   : 6eb21d26cbf6b2d4bb4b0aa44d74c1905b7e94e5\n"
     ]
    }
   ],
   "source": [
    "%load_ext watermark\n",
    "%watermark --iversion -g -m -v -u -d"
   ]
  }
 ],
 "metadata": {
  "kernelspec": {
   "display_name": "Python 3",
   "language": "python",
   "name": "python3"
  },
  "language_info": {
   "codemirror_mode": {
    "name": "ipython",
    "version": 3
   },
   "file_extension": ".py",
   "mimetype": "text/x-python",
   "name": "python",
   "nbconvert_exporter": "python",
   "pygments_lexer": "ipython3",
   "version": "3.6.7"
  }
 },
 "nbformat": 4,
 "nbformat_minor": 2
}
